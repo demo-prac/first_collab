{
 "cells": [
  {
   "cell_type": "code",
   "execution_count": 1,
   "metadata": {},
   "outputs": [
    {
     "data": {
      "text/html": [
       "<div>\n",
       "<style scoped>\n",
       "    .dataframe tbody tr th:only-of-type {\n",
       "        vertical-align: middle;\n",
       "    }\n",
       "\n",
       "    .dataframe tbody tr th {\n",
       "        vertical-align: top;\n",
       "    }\n",
       "\n",
       "    .dataframe thead th {\n",
       "        text-align: right;\n",
       "    }\n",
       "</style>\n",
       "<table border=\"1\" class=\"dataframe\">\n",
       "  <thead>\n",
       "    <tr style=\"text-align: right;\">\n",
       "      <th></th>\n",
       "      <th>Date</th>\n",
       "      <th>Withdrawal_percentages</th>\n",
       "    </tr>\n",
       "    <tr>\n",
       "      <th>Date</th>\n",
       "      <th></th>\n",
       "      <th></th>\n",
       "    </tr>\n",
       "  </thead>\n",
       "  <tbody>\n",
       "    <tr>\n",
       "      <td>2019-09-02</td>\n",
       "      <td>2019-09-02</td>\n",
       "      <td>2.043742</td>\n",
       "    </tr>\n",
       "    <tr>\n",
       "      <td>2019-09-03</td>\n",
       "      <td>2019-09-03</td>\n",
       "      <td>2.411352</td>\n",
       "    </tr>\n",
       "    <tr>\n",
       "      <td>2019-09-04</td>\n",
       "      <td>2019-09-04</td>\n",
       "      <td>2.783947</td>\n",
       "    </tr>\n",
       "    <tr>\n",
       "      <td>2019-09-05</td>\n",
       "      <td>2019-09-05</td>\n",
       "      <td>2.340815</td>\n",
       "    </tr>\n",
       "    <tr>\n",
       "      <td>2019-09-06</td>\n",
       "      <td>2019-09-06</td>\n",
       "      <td>2.329589</td>\n",
       "    </tr>\n",
       "  </tbody>\n",
       "</table>\n",
       "</div>"
      ],
      "text/plain": [
       "                 Date  Withdrawal_percentages\n",
       "Date                                         \n",
       "2019-09-02 2019-09-02                2.043742\n",
       "2019-09-03 2019-09-03                2.411352\n",
       "2019-09-04 2019-09-04                2.783947\n",
       "2019-09-05 2019-09-05                2.340815\n",
       "2019-09-06 2019-09-06                2.329589"
      ]
     },
     "execution_count": 1,
     "metadata": {},
     "output_type": "execute_result"
    }
   ],
   "source": [
    "# import python packages to be used\n",
    "import numpy as np\n",
    "import pandas as pd\n",
    "import matplotlib.pyplot as plt\n",
    "\n",
    "# Read Withdrawal percentage from Excel \n",
    "df = pd.read_excel('Withdrawal_percentages.xlsx', sheet_name = 'Withdrawal_percentages')\n",
    "\n",
    "\n",
    "# change column names of the dataframe\n",
    "df.rename(columns = { 'Unnamed: 0': 'Date', 0:'Withdrawal_percentages'}, inplace = True)\n",
    "\n",
    "\n",
    "# sort data by date, from \n",
    "df.sort_values(by = ['Date'], inplace = True)\n",
    "\n",
    "# set Date column as index coulumn of dataframe\n",
    "df.index = df['Date']\n",
    "df.head()\n",
    "\n",
    "# create day of the week column\n",
    "df['DoW'] = df[\"Date\"].apply(lambda time: time.dayofweek)\n",
    "dmap1 = {0:1,1:2,2:3,3:4,4:5,5:6,6:7}\n",
    "df['DoW'] = df['DoW'].map(dmap1)"
    "#create day of the month column\n"
    ""
    "#create a week of the month column"
    ""
    "delete the date column"
    "Add a new line"


   ]
  },
  {
   "cell_type": "code",
   "execution_count": null,
   "metadata": {},
   "outputs": [],
   "source": []
  }
 ],
 "metadata": {
  "kernelspec": {
   "display_name": "Python 3",
   "language": "python",
   "name": "python3"
  },
  "language_info": {
   "codemirror_mode": {
    "name": "ipython",
    "version": 3
   },
   "file_extension": ".py",
   "mimetype": "text/x-python",
   "name": "python",
   "nbconvert_exporter": "python",
   "pygments_lexer": "ipython3",
   "version": "3.7.4"
  }
 },
 "nbformat": 4,
 "nbformat_minor": 2
}
